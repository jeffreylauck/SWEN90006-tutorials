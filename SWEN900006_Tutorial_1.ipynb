{
  "cells": [
    {
      "cell_type": "markdown",
      "metadata": {
        "colab_type": "text",
        "id": "view-in-github"
      },
      "source": [
        "<a href=\"https://colab.research.google.com/github/SWEN90006/tutorials/blob/main/SWEN900006_Tutorial_1.ipynb\" target=\"_parent\"><img src=\"https://colab.research.google.com/assets/colab-badge.svg\" alt=\"Open In Colab\"/></a>"
      ]
    },
    {
      "cell_type": "markdown",
      "metadata": {
        "id": "4Yoio5FLmgc4"
      },
      "source": [
        "# SWEN90006 Tutorial 1\n"
      ]
    },
    {
      "cell_type": "markdown",
      "metadata": {
        "id": "q8v6WXHiuzj2"
      },
      "source": [
        "## What is testing really?\n",
        "\n",
        "> *It works! Trust me, I've tested the code thoroughly!*\n",
        "\n",
        "With those bold words many software projects have been made bankrupt.\n",
        "\n",
        "The aim of this tutorial is to start to get an understanding of our\n",
        "major themes; that is, of the factors that make up quality and how\n",
        "testing effects them.\n",
        "\n",
        "While we have not yet looked at testing formally yet you will be asked in this tutorial to test a small program fragment with the purpose of starting to see where the difficulties of testing lay in practice."
      ]
    },
    {
      "cell_type": "markdown",
      "metadata": {
        "id": "OKIqiwmCu13k"
      },
      "source": [
        "## Important terminology\n",
        "\n",
        "Before beginning the exercises, consider the following three\n",
        "definitions, the first three of which are defined in the chapter [Introduction to software testing](https://swen90006.github.io/notes/An-Introduction-to-Testing.html) of the subject notes:\n",
        "\n",
        "- *Fault*: An incorrect step, process, or data definition in a computer program. Faults are the source of failures -- fault in the program triggers a failure under the right circumstances.\n",
        "\n",
        "- *Failure*: A deviation between the observed behaviour of a program, or a system, from its specification. Faults cause failures; and in fact, one fault can cause many failures.\n",
        "\n",
        "- *Error*: An incorrect *internal* state that is the result of some fault. An error may not result in a failure -- it is possible that an internal state is incorrect but that it does not affect the output. \n",
        "\n",
        "*Faults cause failures and errors*. A fault in a program can trigger a failure and/or an error under the right circumstances. In fact, a single fault could cause multiple failures and multiple errors. \n",
        "\n",
        "In normal language, software faults are usually referred to as \"bugs\", but the term \"bug\" is ambiguous and can mean to faults, failures, or errors; as such, as will avoid this term."
      ]
    },
    {
      "cell_type": "markdown",
      "metadata": {
        "id": "yAwh3-G8oG7U"
      },
      "source": [
        "## Your tasks\n",
        "\n",
        "The small programs below are taken from the exercises in Chapter 1 of  *Introduction to Software Testing* by Offutt and Ammann. For each program, the test case below the program results in a failure that is caused by a fault in the program.\n",
        "\n",
        "For each of the programs below, perform the following tasks:\n",
        "\n",
        "1. Specify the input domain of the function.\n",
        "2. Identify the fault.\n",
        "3. If possible, identify a test case that does not execute the faulty statement.\n",
        "4. If possible, identify a test case that executes the faulty statement, but does not result in an failure.\n",
        "5. If possible, identify a test case that forces the program into an error, but does not produce a failure.\n",
        "6. Fix the fault and verify that the given test now produces the expected output."
      ]
    },
    {
      "cell_type": "markdown",
      "metadata": {
        "id": "lyQmz4pxoky5"
      },
      "source": [
        "## The programs"
      ]
    },
    {
      "cell_type": "markdown",
      "metadata": {},
      "source": [
        "### find_last"
      ]
    },
    {
      "cell_type": "code",
      "execution_count": 7,
      "metadata": {
        "colab": {
          "base_uri": "https://localhost:8080/",
          "height": 199
        },
        "id": "Pi-i5TeomNRZ",
        "outputId": "4d0f9574-fb0f-48cb-d670-8c1266e83451"
      },
      "outputs": [
        {
          "ename": "AssertionError",
          "evalue": "Test failed: find_last([2, 2], 2) == 1",
          "output_type": "error",
          "traceback": [
            "\u001b[0;31m---------------------------------------------------------------------------\u001b[0m",
            "\u001b[0;31mAssertionError\u001b[0m                            Traceback (most recent call last)",
            "\u001b[1;32m/Users/jeffrey/Library/Mobile Documents/com~apple~CloudDocs/MCIT/2022 Sem 2/SWEN90006 Software and Security Testing/Tutorial/SWEN90006-tutorials/SWEN900006_Tutorial_1.ipynb Cell 7\u001b[0m in \u001b[0;36m<cell line: 18>\u001b[0;34m()\u001b[0m\n\u001b[1;32m     <a href='vscode-notebook-cell:/Users/jeffrey/Library/Mobile%20Documents/com~apple~CloudDocs/MCIT/2022%20Sem%202/SWEN90006%20Software%20and%20Security%20Testing/Tutorial/SWEN90006-tutorials/SWEN900006_Tutorial_1.ipynb#ch0000006?line=15'>16</a>\u001b[0m x \u001b[39m=\u001b[39m [\u001b[39m2\u001b[39m, \u001b[39m2\u001b[39m]\n\u001b[1;32m     <a href='vscode-notebook-cell:/Users/jeffrey/Library/Mobile%20Documents/com~apple~CloudDocs/MCIT/2022%20Sem%202/SWEN90006%20Software%20and%20Security%20Testing/Tutorial/SWEN90006-tutorials/SWEN900006_Tutorial_1.ipynb#ch0000006?line=16'>17</a>\u001b[0m y \u001b[39m=\u001b[39m \u001b[39m2\u001b[39m\n\u001b[0;32m---> <a href='vscode-notebook-cell:/Users/jeffrey/Library/Mobile%20Documents/com~apple~CloudDocs/MCIT/2022%20Sem%202/SWEN90006%20Software%20and%20Security%20Testing/Tutorial/SWEN90006-tutorials/SWEN900006_Tutorial_1.ipynb#ch0000006?line=17'>18</a>\u001b[0m \u001b[39massert\u001b[39;00m find_last(x, y) \u001b[39m==\u001b[39m \u001b[39m0\u001b[39m, \u001b[39m\"\u001b[39m\u001b[39mTest failed: find_last(\u001b[39m\u001b[39m%s\u001b[39;00m\u001b[39m, \u001b[39m\u001b[39m%d\u001b[39;00m\u001b[39m) == \u001b[39m\u001b[39m%d\u001b[39;00m\u001b[39m\"\u001b[39m \u001b[39m%\u001b[39m (x, y, find_last(x, y))\n",
            "\u001b[0;31mAssertionError\u001b[0m: Test failed: find_last([2, 2], 2) == 1"
          ]
        }
      ],
      "source": [
        "'''\n",
        "  x is a list of integers\n",
        "  y is an integer\n",
        "  Return the index of the last element in x that equals y. \n",
        "  If no such element exists, return -1\n",
        "'''\n",
        "def find_last (x, y):\n",
        "  i = len(x) - 1\n",
        "  while i > 0:\n",
        "    if x[i] == y:\n",
        "      return i\n",
        "    i -= 1\n",
        "  return -1\n",
        "\n",
        "# The expected output is 0 (the 0th element)\n",
        "x = [2, 2]\n",
        "y = 2\n",
        "assert find_last(x, y) == 0, \"Test failed: find_last(%s, %d) == %d\" % (x, y, find_last(x, y))"
      ]
    },
    {
      "cell_type": "markdown",
      "metadata": {},
      "source": [
        "1. Specify the input domain of the function.\n",
        "2. Identify the fault.\n",
        "3. If possible, identify a test case that does not execute the faulty statement.\n",
        "4. If possible, identify a test case that executes the faulty statement, but does not result in an failure.\n",
        "5. If possible, identify a test case that forces the program into an error, but does not produce a failure.\n",
        "---\n",
        "1. Input domain: x: array of integer(s), y: an integer\n",
        "2. Fault: not including i==0 in the while condition\n",
        "3. Impossible\n",
        "4. find_last([2,3,5], 3) == 1 (search element not in the 1st position), find_last([2,3,5], 7) == -1 (search element not in the array)\n",
        "5. find_last([3], 5) == -1 (search element not in the array)"
      ]
    },
    {
      "cell_type": "code",
      "execution_count": 3,
      "metadata": {},
      "outputs": [],
      "source": [
        "'''\n",
        "  Fixed Version\n",
        "  x is a list of integers\n",
        "  y is an integer\n",
        "  Return the index of the last element in x that equals y. \n",
        "  If no such element exists, return -1\n",
        "'''\n",
        "def find_last (x, y):\n",
        "  i = len(x) - 1\n",
        "  while i >= 0:\n",
        "    if x[i] == y:\n",
        "      return i\n",
        "    i -= 1\n",
        "  return -1\n",
        "\n",
        "# The expected output is 0 (the 0th element)\n",
        "x = [2, 3, 5]\n",
        "y = 2\n",
        "assert find_last([1], 5) == -1\n",
        "assert find_last([2,3,5], 3) == 1\n",
        "assert find_last(x, y) == 0, \"Test failed: find_last(%s, %d) == %d\" % (x, y, find_last(x, y))"
      ]
    },
    {
      "cell_type": "markdown",
      "metadata": {},
      "source": [
        "### last_zero"
      ]
    },
    {
      "cell_type": "code",
      "execution_count": 8,
      "metadata": {
        "colab": {
          "base_uri": "https://localhost:8080/",
          "height": 197
        },
        "id": "IWbgJIK0qr9d",
        "outputId": "10a8edd4-f22a-437d-bec6-8afb9ef15400"
      },
      "outputs": [
        {
          "ename": "AssertionError",
          "evalue": "Test failed: last_zero([0, 1, 0]) == 0",
          "output_type": "error",
          "traceback": [
            "\u001b[0;31m---------------------------------------------------------------------------\u001b[0m",
            "\u001b[0;31mAssertionError\u001b[0m                            Traceback (most recent call last)",
            "\u001b[1;32m/Users/jeffrey/Library/Mobile Documents/com~apple~CloudDocs/MCIT/2022 Sem 2/SWEN90006 Software and Security Testing/Tutorial/SWEN90006-tutorials/SWEN900006_Tutorial_1.ipynb Cell 10\u001b[0m in \u001b[0;36m<cell line: 16>\u001b[0;34m()\u001b[0m\n\u001b[1;32m     <a href='vscode-notebook-cell:/Users/jeffrey/Library/Mobile%20Documents/com~apple~CloudDocs/MCIT/2022%20Sem%202/SWEN90006%20Software%20and%20Security%20Testing/Tutorial/SWEN90006-tutorials/SWEN900006_Tutorial_1.ipynb#ch0000009?line=13'>14</a>\u001b[0m \u001b[39m# The expected output is 2\u001b[39;00m\n\u001b[1;32m     <a href='vscode-notebook-cell:/Users/jeffrey/Library/Mobile%20Documents/com~apple~CloudDocs/MCIT/2022%20Sem%202/SWEN90006%20Software%20and%20Security%20Testing/Tutorial/SWEN90006-tutorials/SWEN900006_Tutorial_1.ipynb#ch0000009?line=14'>15</a>\u001b[0m x \u001b[39m=\u001b[39m [\u001b[39m0\u001b[39m, \u001b[39m1\u001b[39m, \u001b[39m0\u001b[39m]\n\u001b[0;32m---> <a href='vscode-notebook-cell:/Users/jeffrey/Library/Mobile%20Documents/com~apple~CloudDocs/MCIT/2022%20Sem%202/SWEN90006%20Software%20and%20Security%20Testing/Tutorial/SWEN90006-tutorials/SWEN900006_Tutorial_1.ipynb#ch0000009?line=15'>16</a>\u001b[0m \u001b[39massert\u001b[39;00m last_zero(x) \u001b[39m==\u001b[39m \u001b[39m2\u001b[39m, \u001b[39m\"\u001b[39m\u001b[39mTest failed: last_zero(\u001b[39m\u001b[39m%s\u001b[39;00m\u001b[39m) == \u001b[39m\u001b[39m%d\u001b[39;00m\u001b[39m\"\u001b[39m \u001b[39m%\u001b[39m (x, last_zero(x))\n",
            "\u001b[0;31mAssertionError\u001b[0m: Test failed: last_zero([0, 1, 0]) == 0"
          ]
        }
      ],
      "source": [
        "'''\n",
        "  x is a list of integers\n",
        "  Return the index of the LAST 0 in x.\n",
        "  Return -1 if 0 does not occur in x.\n",
        "'''\n",
        "def last_zero(x):\n",
        "  i = 0\n",
        "  while i < len(x):\n",
        "    if x[i] == 0:\n",
        "      return i\n",
        "    i += 1\n",
        "  return -1\n",
        "\n",
        "# The expected output is 2\n",
        "x = [0, 1, 0]\n",
        "assert last_zero(x) == 2, \"Test failed: last_zero(%s) == %d\" % (x, last_zero(x))"
      ]
    },
    {
      "cell_type": "markdown",
      "metadata": {},
      "source": [
        "1. Specify the input domain of the function.\n",
        "2. Identify the fault.\n",
        "3. If possible, identify a test case that does not execute the faulty statement.\n",
        "4. If possible, identify a test case that executes the faulty statement, but does not result in an failure.\n",
        "5. If possible, identify a test case that forces the program into an error, but does not produce a failure.\n",
        "------------------------\n",
        "\n",
        "1. Input domain: x: list of integers\n",
        "2. Fault: it works from the beginning of the array, thus returning the first occurance of zero instead of the last\n",
        "3. ??\n",
        "4. find_last([0,1,2]) == 0 (when there is only one single 0), find_last([1,2]) == -1 (when there is no zero in the list)\n",
        "5. find_last([0]) == 0"
      ]
    },
    {
      "cell_type": "code",
      "execution_count": 5,
      "metadata": {},
      "outputs": [],
      "source": [
        "'''\n",
        "  Fixed version\n",
        "  x is a list of integers\n",
        "  Return the index of the LAST 0 in x.\n",
        "  Return -1 if 0 does not occur in x.\n",
        "'''\n",
        "def last_zero(x):\n",
        "  i = len(x)-1   # modified\n",
        "  while i >=0:   # modified\n",
        "    if x[i] == 0:\n",
        "      return i\n",
        "    i -= 1       # modified\n",
        "  return -1\n",
        "\n",
        "# The expected output is 2\n",
        "x = [0, 1, 0]\n",
        "assert last_zero(x) == 2, \"Test failed: last_zero(%s) == %d\" % (x, last_zero(x))"
      ]
    },
    {
      "cell_type": "markdown",
      "metadata": {},
      "source": [
        "### count_positive"
      ]
    },
    {
      "cell_type": "code",
      "execution_count": 9,
      "metadata": {
        "colab": {
          "base_uri": "https://localhost:8080/",
          "height": 197
        },
        "id": "RdDJeQCNrIVt",
        "outputId": "79b8c2b7-75b6-4196-92c5-a5f0700334e1"
      },
      "outputs": [
        {
          "ename": "AssertionError",
          "evalue": "Test failed: count_positive([-4, 2, 0, 2]) == 3",
          "output_type": "error",
          "traceback": [
            "\u001b[0;31m---------------------------------------------------------------------------\u001b[0m",
            "\u001b[0;31mAssertionError\u001b[0m                            Traceback (most recent call last)",
            "\u001b[1;32m/Users/jeffrey/Library/Mobile Documents/com~apple~CloudDocs/MCIT/2022 Sem 2/SWEN90006 Software and Security Testing/Tutorial/SWEN90006-tutorials/SWEN900006_Tutorial_1.ipynb Cell 13\u001b[0m in \u001b[0;36m<cell line: 16>\u001b[0;34m()\u001b[0m\n\u001b[1;32m     <a href='vscode-notebook-cell:/Users/jeffrey/Library/Mobile%20Documents/com~apple~CloudDocs/MCIT/2022%20Sem%202/SWEN90006%20Software%20and%20Security%20Testing/Tutorial/SWEN90006-tutorials/SWEN900006_Tutorial_1.ipynb#ch0000012?line=13'>14</a>\u001b[0m \u001b[39m# The expected output is 2\u001b[39;00m\n\u001b[1;32m     <a href='vscode-notebook-cell:/Users/jeffrey/Library/Mobile%20Documents/com~apple~CloudDocs/MCIT/2022%20Sem%202/SWEN90006%20Software%20and%20Security%20Testing/Tutorial/SWEN90006-tutorials/SWEN900006_Tutorial_1.ipynb#ch0000012?line=14'>15</a>\u001b[0m x \u001b[39m=\u001b[39m [\u001b[39m-\u001b[39m\u001b[39m4\u001b[39m, \u001b[39m2\u001b[39m, \u001b[39m0\u001b[39m, \u001b[39m2\u001b[39m]\n\u001b[0;32m---> <a href='vscode-notebook-cell:/Users/jeffrey/Library/Mobile%20Documents/com~apple~CloudDocs/MCIT/2022%20Sem%202/SWEN90006%20Software%20and%20Security%20Testing/Tutorial/SWEN90006-tutorials/SWEN900006_Tutorial_1.ipynb#ch0000012?line=15'>16</a>\u001b[0m \u001b[39massert\u001b[39;00m count_positive(x) \u001b[39m==\u001b[39m \u001b[39m2\u001b[39m, \u001b[39m\"\u001b[39m\u001b[39mTest failed: count_positive(\u001b[39m\u001b[39m%s\u001b[39;00m\u001b[39m) == \u001b[39m\u001b[39m%d\u001b[39;00m\u001b[39m\"\u001b[39m \u001b[39m%\u001b[39m (x, count_positive(x))\n",
            "\u001b[0;31mAssertionError\u001b[0m: Test failed: count_positive([-4, 2, 0, 2]) == 3"
          ]
        }
      ],
      "source": [
        "'''\n",
        "  x is a list of integers\n",
        "  Return the number of _strictly_ positive elements in x.\n",
        "'''\n",
        "def count_positive(x):\n",
        "  count = 0\n",
        "  i = 0\n",
        "  while i < len(x):\n",
        "    if x[i] >= 0:\n",
        "      count += 1\n",
        "    i += 1\n",
        "  return count\n",
        "\n",
        "# The expected output is 2\n",
        "x = [-4, 2, 0, 2]\n",
        "assert count_positive(x) == 2, \"Test failed: count_positive(%s) == %d\" % (x, count_positive(x))"
      ]
    },
    {
      "cell_type": "markdown",
      "metadata": {},
      "source": [
        "1. Specify the input domain of the function.\n",
        "2. Identify the fault.\n",
        "3. If possible, identify a test case that does not execute the faulty statement.\n",
        "4. If possible, identify a test case that executes the faulty statement, but does not result in an failure.\n",
        "5. If possible, identify a test case that forces the program into an error, but does not produce a failure.\n",
        "------------------------\n",
        "\n",
        "1. Input domain: x: array of integers\n",
        "2. Fault: it works from the beginning of the array, thus returning the first occurance of zero instead of the last\n",
        "3. count_positive([]) == 0\n",
        "4. count_positive([-3,-2]) == 0\n",
        "5. Impossible"
      ]
    },
    {
      "cell_type": "code",
      "execution_count": 10,
      "metadata": {},
      "outputs": [],
      "source": [
        "'''\n",
        "  Fixed version\n",
        "  x is a list of integers\n",
        "  Return the number of _strictly_ positive elements in x.\n",
        "'''\n",
        "def count_positive(x):\n",
        "  count = 0\n",
        "  i = 0\n",
        "  while i < len(x):\n",
        "    if x[i] > 0:\n",
        "      count += 1\n",
        "    i += 1\n",
        "  return count\n",
        "\n",
        "# The expected output is 2\n",
        "x = [-4, 2, 0, 2]\n",
        "assert count_positive(x) == 2, \"Test failed: count_positive(%s) == %d\" % (x, count_positive(x))"
      ]
    }
  ],
  "metadata": {
    "colab": {
      "authorship_tag": "ABX9TyPwUfUB9xTPqHy6Q1UKenSH",
      "collapsed_sections": [],
      "include_colab_link": true,
      "name": "SWEN900006 Tutorial 1.ipynb",
      "provenance": [],
      "toc_visible": true
    },
    "kernelspec": {
      "display_name": "Python 3.8.9 64-bit",
      "language": "python",
      "name": "python3"
    },
    "language_info": {
      "codemirror_mode": {
        "name": "ipython",
        "version": 3
      },
      "file_extension": ".py",
      "mimetype": "text/x-python",
      "name": "python",
      "nbconvert_exporter": "python",
      "pygments_lexer": "ipython3",
      "version": "3.8.9"
    },
    "vscode": {
      "interpreter": {
        "hash": "31f2aee4e71d21fbe5cf8b01ff0e069b9275f58929596ceb00d14d90e3e16cd6"
      }
    }
  },
  "nbformat": 4,
  "nbformat_minor": 0
}
